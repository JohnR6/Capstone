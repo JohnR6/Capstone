{
 "cells": [
  {
   "attachments": {},
   "cell_type": "markdown",
   "metadata": {},
   "source": [
    "## Author: Dwane Richards, John Rielley, Mustafa Radheyyan, Jose Heras, Wuhbet Tewelde\n",
    "## Date: 01/23/2023\n",
    "## Assignment: Cognixia JUMPro Python Project 2\n",
    "## Dataset Synopsis: https://www.kaggle.com/datasets/mattop/daily-solar-power-generation\n",
    "## Dataset Download (warning: link to download): https://www.kaggle.com/datasets/mattop/daily-solar-power-generation/download?datasetVersionNumber=1"
   ]
  },
  {
   "cell_type": "code",
   "execution_count": null,
   "metadata": {},
   "outputs": [],
   "source": [
    "import numpy as np\n",
    "import pandas as pd\n",
    "import datetime as dt\n",
    "from IPython.display import display, HTML"
   ]
  },
  {
   "cell_type": "code",
   "execution_count": null,
   "metadata": {},
   "outputs": [],
   "source": [
    "solar_output = pd.read_csv(\"solar.csv\", header=0)"
   ]
  },
  {
   "attachments": {},
   "cell_type": "markdown",
   "metadata": {},
   "source": [
    "Table from the unmodified csv"
   ]
  },
  {
   "cell_type": "code",
   "execution_count": null,
   "metadata": {},
   "outputs": [],
   "source": [
    "solar_output.head()"
   ]
  },
  {
   "attachments": {},
   "cell_type": "markdown",
   "metadata": {},
   "source": [
    "Modifying the table, removing unneeded columns and removing NaN values."
   ]
  },
  {
   "cell_type": "code",
   "execution_count": null,
   "metadata": {},
   "outputs": [],
   "source": [
    "solar_output = solar_output.drop(labels=[\"latitude\", \"longitude\", \"department\", \"address\", \"site\"], axis=1)\n",
    "solar_output = solar_output.dropna(subset=[\"watt_hours\", \"date\", \"watt_hours_expected\"], axis='rows').reset_index(drop=True)\n",
    "solar_output.head()"
   ]
  },
  {
   "attachments": {},
   "cell_type": "markdown",
   "metadata": {},
   "source": [
    "Our dataset still appears to have a large number of NaN values in the \"watt_min\" column. Therefore, we have opted to do some investigation into the column."
   ]
  },
  {
   "cell_type": "code",
   "execution_count": null,
   "metadata": {},
   "outputs": [],
   "source": [
    "solar_output[\"watt_min\"].max()"
   ]
  },
  {
   "cell_type": "code",
   "execution_count": null,
   "metadata": {},
   "outputs": [],
   "source": [
    "solar_output = solar_output.drop(labels=[\"watt_min\"], axis=1).reset_index(drop=True)\n",
    "solar_output.head()"
   ]
  },
  {
   "attachments": {},
   "cell_type": "markdown",
   "metadata": {},
   "source": [
    "Let's examine the DataFrame's data types!\n",
    "\n",
    "The date column's data type is an object! What could make that better? Datetime possibly...?"
   ]
  },
  {
   "cell_type": "code",
   "execution_count": null,
   "metadata": {},
   "outputs": [],
   "source": [
    "solar_output.info()"
   ]
  },
  {
   "attachments": {},
   "cell_type": "markdown",
   "metadata": {},
   "source": [
    "Datetime it is! Much cleaner!"
   ]
  },
  {
   "cell_type": "code",
   "execution_count": null,
   "metadata": {},
   "outputs": [],
   "source": [
    "solar_output[\"date\"] = pd.to_datetime(solar_output[\"date\"])\n",
    "solar_output.head()"
   ]
  },
  {
   "attachments": {},
   "cell_type": "markdown",
   "metadata": {},
   "source": [
    "Calculating the difference between expected watt hours and actual watt hour output\n",
    "\n",
    "Consecutive dates with large discrepancies in watt hour outputs such as between 2021-05-08 and 2021-05-09 may be explained by a broken device or sensor"
   ]
  },
  {
   "cell_type": "code",
   "execution_count": null,
   "metadata": {},
   "outputs": [],
   "source": [
    "solar_output[\"watt_hours_expected_difference\"] = solar_output[\"watt_hours\"] - solar_output[\"watt_hours_expected\"]\n",
    "solar_output_display = solar_output[(solar_output['date'] < dt.datetime(2018, 1, 25)) | (solar_output['date'] > dt.datetime(2021, 5, 6))].reset_index(drop=True)\n",
    "\n",
    "dateSlice = solar_output_display[(solar_output_display['date'].eq(dt.datetime(2021, 5, 8))) | (solar_output_display['date'].eq(dt.datetime(2021, 5, 9)))]\n",
    "last_row = pd.IndexSlice[dateSlice.index,:]\n",
    "\n",
    "def df_style(val): return \"font-weight: bold\"\n",
    "solar_output_display = solar_output_display.style.set_properties(**{'background-color': 'green'}, subset=last_row)\n",
    "solar_output_display = solar_output_display.applymap(df_style, subset=last_row)\n",
    "solar_output_display\\\n",
    "    .hide(axis=\"index\").format(\n",
    "    {\n",
    "        'date': lambda t: t.strftime(\"%Y-%m-%d\"),\n",
    "        'watt_max':'{:.0f}',\n",
    "        'watt_avg':'{:.0f}',\n",
    "        'watt_hours':'{:.0f}',\n",
    "        'watt_hours_expected':'{:.0f}',\n",
    "        'watt_hours_expected_difference':'{:.0f}'\n",
    "     })"
   ]
  },
  {
   "attachments": {},
   "cell_type": "markdown",
   "metadata": {},
   "source": [
    "A boolean representation of when watt hour output exceeded expected watt hours"
   ]
  },
  {
   "cell_type": "code",
   "execution_count": null,
   "metadata": {},
   "outputs": [],
   "source": [
    "solar_output[\"watt_hours_exceeded_expected\"] = np.where(solar_output[\"watt_hours\"] >= solar_output[\"watt_hours_expected\"], True, False)\n",
    "solar_output"
   ]
  },
  {
   "cell_type": "code",
   "execution_count": null,
   "metadata": {},
   "outputs": [],
   "source": [
    "average_solar_output_over_expected = round(solar_output[\"watt_hours_expected_difference\"].mean(), 2)\n",
    "\n",
    "analysis_string = f\"\"\"<h2 style='font-size:18'>Through our dataset, the data has produced, on average, more power than expected.\n",
    "\n",
    "<br><br>It is currently producing on average: <span><span style='color:red'>{average_solar_output_over_expected}</span> watt hours over the expected watt hours.\n",
    "\n",
    "<br><br>In the future, the station is predicted, on average, to overproduce.</span>\"\"\"\n",
    "\n",
    "# Native Python print version, smaller text size =(\n",
    "# analysis_string = f\"\"\"Through our dataset, the data has produced on average more power than expected.\n",
    "# It is currently producing on average: {average_solar_output_over_expected} watt hours over the expected watt hours.\n",
    "# In the future, the station is predicted to overproduce on average.\"\"\"\n",
    "\n",
    "# print(analysis_string)\n",
    "\n",
    "display(HTML(analysis_string))"
   ]
  },
  {
   "attachments": {},
   "cell_type": "markdown",
   "metadata": {},
   "source": [
    "Converting the date into months, and finding the average difference between watt hour output and expected watt hours.\n",
    "\n",
    "This monthly breakdown of the data shows that the solar panels produced well above expected watt hours in September, and in every month\n",
    "except for May, August, December and November "
   ]
  },
  {
   "cell_type": "code",
   "execution_count": null,
   "metadata": {},
   "outputs": [],
   "source": [
    "date_column_month = pd.DataFrame({'month' : solar_output[\"date\"].dt.month_name()})\n",
    "solar_output_month = date_column_month.join(solar_output)\n",
    "solar_output_month[['month', 'watt_hours_expected_difference']].groupby(\"month\").mean().round(decimals=2).sort_values(by=\"watt_hours_expected_difference\", ascending=False)"
   ]
  },
  {
   "attachments": {},
   "cell_type": "markdown",
   "metadata": {},
   "source": [
    "This monthly breakdown of the data shows that the solar panels had higher average watt hours in summer and spring months, rather than in winter months."
   ]
  },
  {
   "cell_type": "code",
   "execution_count": null,
   "metadata": {},
   "outputs": [],
   "source": [
    "date_column_month = pd.DataFrame({'month' : solar_output[\"date\"].dt.month_name()})\n",
    "solar_output_month = date_column_month.join(solar_output)\n",
    "solar_output_month[['month', 'watt_avg']].groupby(\"month\").mean().round(decimals=2).sort_values(by=\"watt_avg\", ascending=False)"
   ]
  },
  {
   "attachments": {},
   "cell_type": "markdown",
   "metadata": {},
   "source": [
    "Highest Expected Watt Output"
   ]
  },
  {
   "cell_type": "code",
   "execution_count": null,
   "metadata": {},
   "outputs": [],
   "source": [
    "solar_output[['date', 'watt_hours_expected']].sort_values(['watt_hours_expected'], ascending=False).head()\\\n",
    "    .style.hide(axis=\"index\").format(\n",
    "    {\n",
    "        'date': lambda t: t.strftime(\"%Y-%m-%d\"),\n",
    "        'watt_hours_expected':'{:.0f}'\n",
    "     })"
   ]
  },
  {
   "attachments": {},
   "cell_type": "markdown",
   "metadata": {},
   "source": [
    "Lowest Expected Watt Output"
   ]
  },
  {
   "cell_type": "code",
   "execution_count": null,
   "metadata": {},
   "outputs": [],
   "source": [
    "solar_output[['date', 'watt_hours_expected']].sort_values(['watt_hours_expected'], ascending=False).dropna().tail()\\\n",
    "    .style.hide(axis=\"index\").format(\n",
    "    {\n",
    "        'date': lambda t: t.strftime(\"%Y-%m-%d\"),\n",
    "        'watt_hours_expected':'{:.0f}'\n",
    "     })"
   ]
  },
  {
   "attachments": {},
   "cell_type": "markdown",
   "metadata": {},
   "source": [
    "Highest average watt output"
   ]
  },
  {
   "cell_type": "code",
   "execution_count": null,
   "metadata": {},
   "outputs": [],
   "source": [
    "solar_output[['date', 'watt_avg']].sort_values(['watt_avg'], ascending=False).head()\\\n",
    "    .style.hide(axis=\"index\").format(\n",
    "    {\n",
    "        'date': lambda t: t.strftime(\"%Y-%m-%d\"),\n",
    "        'watt_avg':'{:.0f}'\n",
    "     })"
   ]
  },
  {
   "attachments": {},
   "cell_type": "markdown",
   "metadata": {},
   "source": [
    "Lowest average watt output"
   ]
  },
  {
   "cell_type": "code",
   "execution_count": null,
   "metadata": {},
   "outputs": [],
   "source": [
    "lowest_avg_watts = solar_output[['date', 'watt_avg']].sort_values(['watt_avg'], ascending=False).dropna()\n",
    "lowest_avg_watts[lowest_avg_watts[\"watt_avg\"] > 0].tail()\\\n",
    "    .style.hide(axis=\"index\").format(\n",
    "    {\n",
    "        'date': lambda t: t.strftime(\"%Y-%m-%d\"),\n",
    "        'watt_avg':'{:.0f}'\n",
    "     })"
   ]
  }
 ],
 "metadata": {
  "kernelspec": {
   "display_name": "base",
   "language": "python",
   "name": "python3"
  },
  "language_info": {
   "codemirror_mode": {
    "name": "ipython",
    "version": 3
   },
   "file_extension": ".py",
   "mimetype": "text/x-python",
   "name": "python",
   "nbconvert_exporter": "python",
   "pygments_lexer": "ipython3",
   "version": "3.9.13"
  },
  "orig_nbformat": 4,
  "vscode": {
   "interpreter": {
    "hash": "952248859c76b233a138c509fe5257fe1ce3ccb790433c967b21326685fd66d4"
   }
  }
 },
 "nbformat": 4,
 "nbformat_minor": 2
}
